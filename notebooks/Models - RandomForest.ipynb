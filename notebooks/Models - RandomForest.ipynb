{
 "cells": [
  {
   "cell_type": "markdown",
   "metadata": {},
   "source": [
    "# Random Forest Classifier"
   ]
  },
  {
   "cell_type": "code",
   "execution_count": 1,
   "metadata": {
    "ExecuteTime": {
     "end_time": "2019-09-13T08:41:59.216956Z",
     "start_time": "2019-09-13T08:41:57.679055Z"
    },
    "collapsed": true
   },
   "outputs": [],
   "source": [
    "import pandas as pd\n",
    "import numpy as np\n",
    "import matplotlib.pyplot as plt\n",
    "import warnings\n",
    "import os\n",
    "import sklearn\n",
    "%matplotlib inline\n",
    "\n",
    "#never print matching warnings\n",
    "warnings.filterwarnings('ignore') \n",
    "\n",
    "#set how pandas displays data\n",
    "pd.options.display.max_columns = 100\n",
    "pd.options.display.max_rows = 35\n",
    "pd.options.display.width = 120\n",
    "\n",
    "#change the max # of rows pandas will display\n",
    "pd.options.display.max_rows = 9000\n",
    "\n",
    "#set to display all output\n",
    "from IPython.core.interactiveshell import InteractiveShell\n",
    "InteractiveShell.ast_node_interactivity = \"all\"\n",
    "\n",
    "#import seaborn for graphing\n",
    "import seaborn as sns\n",
    "sns.set_style('whitegrid')"
   ]
  },
  {
   "cell_type": "code",
   "execution_count": 8,
   "metadata": {
    "ExecuteTime": {
     "end_time": "2018-07-26T10:13:13.617388Z",
     "start_time": "2018-07-26T10:13:13.598877Z"
    },
    "collapsed": false
   },
   "outputs": [],
   "source": [
    "_='''\n",
    "\n",
    "PARAMTERES FOR RANDOM FOREST\n",
    "\n",
    "*** n_estimators : integer, optional (default=10)\n",
    "    The number of trees in the forest.\n",
    "\n",
    "criterion : string, optional (default=\"gini\")\n",
    "    The function to measure the quality of a split. Supported criteria are\n",
    "    \"gini\" for the Gini impurity and \"entropy\" for the information gain.\n",
    "    Note: this parameter is tree-specific.\n",
    "    \n",
    "*** max_features : int, float, string or None, optional (default=\"auto\")\n",
    "\n",
    "*** max_depth : integer or None, optional (default=None)\n",
    "\n",
    "bootstrap : boolean, optional (default=True) Whether bootstrap samples are used when building trees.\n",
    "\n",
    "warm_start : bool, optional (default=False)\n",
    "    When set to ``True``, reuse the solution of the previous call to fit\n",
    "    and add more estimators to the ensemble, otherwise, just fit a whole\n",
    "    new forest.\n",
    "    \n",
    "min_samples_split : int, float, optional (default=2)\n",
    "    The minimum number of samples required to split an internal node\n",
    "    \n",
    "*** min_impurity_split : float, optional (default=1e-7)\n",
    "    Threshold for early stopping in tree growth.\n",
    "    A node will split if impurity > threshold, otherwise it is a leaf.\n",
    "    \n",
    "bootstrap : boolean, optional (default=True)\n",
    "\n",
    "class_weight : dict, list of dicts, \"balanced\",\n",
    "    \"balanced_subsample\" or None, optional (default=None)\n",
    "    Weights associated with classes in the form ``{class_label: weight}``.\n",
    "    If not given, all classes are supposed to have weight one. For\n",
    "    multi-output problems, a list of dicts can be provided in the same\n",
    "    order as the columns of y.\n",
    "    \n",
    "'''"
   ]
  },
  {
   "cell_type": "markdown",
   "metadata": {
    "ExecuteTime": {
     "end_time": "2018-07-26T10:09:33.175097Z",
     "start_time": "2018-07-26T10:09:33.165944Z"
    }
   },
   "source": [
    "# Load data"
   ]
  },
  {
   "cell_type": "code",
   "execution_count": 3,
   "metadata": {
    "ExecuteTime": {
     "end_time": "2019-06-11T22:12:30.655378Z",
     "start_time": "2019-06-11T22:12:30.547248Z"
    },
    "collapsed": false
   },
   "outputs": [
    {
     "data": {
      "text/html": [
       "<div>\n",
       "<style scoped>\n",
       "    .dataframe tbody tr th:only-of-type {\n",
       "        vertical-align: middle;\n",
       "    }\n",
       "\n",
       "    .dataframe tbody tr th {\n",
       "        vertical-align: top;\n",
       "    }\n",
       "\n",
       "    .dataframe thead th {\n",
       "        text-align: right;\n",
       "    }\n",
       "</style>\n",
       "<table border=\"1\" class=\"dataframe\">\n",
       "  <thead>\n",
       "    <tr style=\"text-align: right;\">\n",
       "      <th></th>\n",
       "      <th>id</th>\n",
       "      <th>thickness</th>\n",
       "      <th>unif_cellsize</th>\n",
       "      <th>unif_cellshape</th>\n",
       "      <th>adhesion</th>\n",
       "      <th>cellsize</th>\n",
       "      <th>nuclei</th>\n",
       "      <th>chromatin</th>\n",
       "      <th>nucleoli</th>\n",
       "      <th>mitoses</th>\n",
       "      <th>class</th>\n",
       "    </tr>\n",
       "  </thead>\n",
       "  <tbody>\n",
       "    <tr>\n",
       "      <th>0</th>\n",
       "      <td>1000025</td>\n",
       "      <td>5</td>\n",
       "      <td>1</td>\n",
       "      <td>1</td>\n",
       "      <td>1</td>\n",
       "      <td>2</td>\n",
       "      <td>1</td>\n",
       "      <td>3</td>\n",
       "      <td>1</td>\n",
       "      <td>1</td>\n",
       "      <td>2</td>\n",
       "    </tr>\n",
       "    <tr>\n",
       "      <th>1</th>\n",
       "      <td>1002945</td>\n",
       "      <td>5</td>\n",
       "      <td>4</td>\n",
       "      <td>4</td>\n",
       "      <td>5</td>\n",
       "      <td>7</td>\n",
       "      <td>10</td>\n",
       "      <td>3</td>\n",
       "      <td>2</td>\n",
       "      <td>1</td>\n",
       "      <td>2</td>\n",
       "    </tr>\n",
       "    <tr>\n",
       "      <th>2</th>\n",
       "      <td>1015425</td>\n",
       "      <td>3</td>\n",
       "      <td>1</td>\n",
       "      <td>1</td>\n",
       "      <td>1</td>\n",
       "      <td>2</td>\n",
       "      <td>2</td>\n",
       "      <td>3</td>\n",
       "      <td>1</td>\n",
       "      <td>1</td>\n",
       "      <td>2</td>\n",
       "    </tr>\n",
       "    <tr>\n",
       "      <th>3</th>\n",
       "      <td>1016277</td>\n",
       "      <td>6</td>\n",
       "      <td>8</td>\n",
       "      <td>8</td>\n",
       "      <td>1</td>\n",
       "      <td>3</td>\n",
       "      <td>4</td>\n",
       "      <td>3</td>\n",
       "      <td>7</td>\n",
       "      <td>1</td>\n",
       "      <td>2</td>\n",
       "    </tr>\n",
       "    <tr>\n",
       "      <th>4</th>\n",
       "      <td>1017023</td>\n",
       "      <td>4</td>\n",
       "      <td>1</td>\n",
       "      <td>1</td>\n",
       "      <td>3</td>\n",
       "      <td>2</td>\n",
       "      <td>1</td>\n",
       "      <td>3</td>\n",
       "      <td>1</td>\n",
       "      <td>1</td>\n",
       "      <td>2</td>\n",
       "    </tr>\n",
       "  </tbody>\n",
       "</table>\n",
       "</div>"
      ],
      "text/plain": [
       "        id  thickness  unif_cellsize  unif_cellshape  adhesion  cellsize nuclei  chromatin  nucleoli  mitoses  class\n",
       "0  1000025          5              1               1         1         2      1          3         1        1      2\n",
       "1  1002945          5              4               4         5         7     10          3         2        1      2\n",
       "2  1015425          3              1               1         1         2      2          3         1        1      2\n",
       "3  1016277          6              8               8         1         3      4          3         7        1      2\n",
       "4  1017023          4              1               1         3         2      1          3         1        1      2"
      ]
     },
     "execution_count": 3,
     "metadata": {},
     "output_type": "execute_result"
    }
   ],
   "source": [
    "path='/Users/juliannefreeman/Desktop/to_share/'\n",
    "os.chdir(path)\n",
    "data=pd.read_csv('20180711_datachallenge.csv')\n",
    "data.head(5)"
   ]
  },
  {
   "cell_type": "code",
   "execution_count": 4,
   "metadata": {
    "ExecuteTime": {
     "end_time": "2019-06-11T22:12:32.455214Z",
     "start_time": "2019-06-11T22:12:32.415308Z"
    },
    "collapsed": false
   },
   "outputs": [],
   "source": [
    "# Step 1: replace ? with NaN\n",
    "data['nuclei']=data['nuclei'].replace('?',np.NaN)\n",
    "\n",
    "# Step 2: change nuclei into float\n",
    "data['nuclei']=data['nuclei'].astype(float)\n",
    "\n",
    "# Step 3: replace nan values with median\n",
    "data['nuclei'].fillna((data['nuclei'].median()), inplace=True)\n",
    "\n",
    "# Step 4: remove duplicates\n",
    "data=data.drop_duplicates(subset='id').reset_index(drop=True) # use default of keeping first instance\n",
    "\n",
    "# Step 5: binary classification (0 and 1)\n",
    "def f(data):\n",
    "    if data==2: return 0\n",
    "    if data==4: return 1\n",
    "data['class1']=data['class'].apply(f)"
   ]
  },
  {
   "cell_type": "markdown",
   "metadata": {},
   "source": [
    "# Evaluate classification between classes"
   ]
  },
  {
   "cell_type": "markdown",
   "metadata": {},
   "source": [
    "### dependent variables"
   ]
  },
  {
   "cell_type": "code",
   "execution_count": 6,
   "metadata": {
    "ExecuteTime": {
     "end_time": "2019-06-11T22:12:45.622644Z",
     "start_time": "2019-06-11T22:12:45.600510Z"
    },
    "collapsed": true
   },
   "outputs": [],
   "source": [
    "indvar=[\n",
    "'thickness' ,     \n",
    "'unif_cellsize' ,\n",
    "'unif_cellshape',\n",
    "'adhesion',\n",
    "'cellsize',\n",
    "'nuclei',\n",
    "'chromatin', \n",
    "'nucleoli',\n",
    "'mitoses'\n",
    "]  "
   ]
  },
  {
   "cell_type": "markdown",
   "metadata": {},
   "source": [
    "### independent variables"
   ]
  },
  {
   "cell_type": "code",
   "execution_count": 7,
   "metadata": {
    "ExecuteTime": {
     "end_time": "2019-06-11T22:12:45.644886Z",
     "start_time": "2019-06-11T22:12:45.623956Z"
    },
    "collapsed": true
   },
   "outputs": [],
   "source": [
    "depvar=['class1']"
   ]
  },
  {
   "cell_type": "markdown",
   "metadata": {},
   "source": [
    "# Heatmap"
   ]
  },
  {
   "cell_type": "code",
   "execution_count": 8,
   "metadata": {
    "ExecuteTime": {
     "end_time": "2019-06-11T22:12:46.306151Z",
     "start_time": "2019-06-11T22:12:45.646861Z"
    },
    "collapsed": false
   },
   "outputs": [
    {
     "data": {
      "image/png": "[encoded data removed]",
      "text/plain": [
       "<matplotlib.figure.Figure at 0x12a3653c8>"
      ]
     },
     "metadata": {},
     "output_type": "display_data"
    }
   ],
   "source": [
    "#view correlation of variables\n",
    "fig, ax1 = plt.subplots(1,1,figsize=(10,8))\n",
    "_=sns.heatmap(data[indvar].corr(), annot=True, fmt = \".2f\", cmap = \"viridis\", ax=ax1)"
   ]
  },
  {
   "cell_type": "markdown",
   "metadata": {},
   "source": [
    "# Random Forest"
   ]
  },
  {
   "cell_type": "markdown",
   "metadata": {},
   "source": [
    "#### prep data"
   ]
  },
  {
   "cell_type": "code",
   "execution_count": 9,
   "metadata": {
    "ExecuteTime": {
     "end_time": "2019-06-11T22:12:46.390148Z",
     "start_time": "2019-06-11T22:12:46.307474Z"
    },
    "collapsed": false
   },
   "outputs": [
    {
     "name": "stdout",
     "output_type": "stream",
     "text": [
      "1. Split data into train and test set\n",
      "\n",
      "Length of train set: \t 516.000000\n",
      "Length of test set: \t 129.000000\n",
      "\n",
      "2. Do not need to scale data\n",
      "\n",
      "3. reshape data\n",
      "x_train:  (516, 9)\n",
      "y_train:  (516,)\n"
     ]
    }
   ],
   "source": [
    "# split data into training and testing sets\n",
    "print('1. Split data into train and test set\\n')\n",
    "from sklearn.model_selection import train_test_split\n",
    "X=data[indvar]\n",
    "y=data[depvar]\n",
    "X_train, X_test, y_train, y_test = train_test_split(X, y, test_size = 0.2, random_state = 0)\n",
    "print('Length of train set: \\t %f' % len(X_train))\n",
    "print('Length of test set: \\t %f\\n' % len(X_test))\n",
    "\n",
    "# dont scale data\n",
    "print('2. You dont need to scale data in random forest\\n')\n",
    "\n",
    "# make into correct format\n",
    "print('3. reshape data')\n",
    "print('x_train: ', X_train.shape) # X_train must be pandas df\n",
    "y_train=np.array(y_train).flatten()\n",
    "print('y_train: ', y_train.shape) # Y_train must be nparray with shape (R,)"
   ]
  },
  {
   "cell_type": "markdown",
   "metadata": {},
   "source": [
    "## FIT MODEL"
   ]
  },
  {
   "cell_type": "code",
   "execution_count": 10,
   "metadata": {
    "ExecuteTime": {
     "end_time": "2019-06-11T22:12:46.483741Z",
     "start_time": "2019-06-11T22:12:46.391276Z"
    },
    "collapsed": false
   },
   "outputs": [
    {
     "data": {
      "text/plain": [
       "RandomForestClassifier(bootstrap=True, class_weight=None, criterion='gini',\n",
       "            max_depth=None, max_features='auto', max_leaf_nodes=None,\n",
       "            min_impurity_split=1e-07, min_samples_leaf=1,\n",
       "            min_samples_split=2, min_weight_fraction_leaf=0.0,\n",
       "            n_estimators=10, n_jobs=1, oob_score=False, random_state=None,\n",
       "            verbose=0, warm_start=False)"
      ]
     },
     "execution_count": 10,
     "metadata": {},
     "output_type": "execute_result"
    }
   ],
   "source": [
    "# Random Forest\n",
    "from sklearn.ensemble import RandomForestClassifier\n",
    "random_forest = RandomForestClassifier()\n",
    "random_forest.fit(X_train, y_train)"
   ]
  },
  {
   "cell_type": "markdown",
   "metadata": {},
   "source": [
    "## VALIDATE MODEL"
   ]
  },
  {
   "cell_type": "code",
   "execution_count": 11,
   "metadata": {
    "ExecuteTime": {
     "end_time": "2019-06-11T22:12:46.655499Z",
     "start_time": "2019-06-11T22:12:46.484838Z"
    },
    "collapsed": false
   },
   "outputs": [
    {
     "name": "stdout",
     "output_type": "stream",
     "text": [
      "Validate model\n",
      "\n",
      "Accuracy: 0.976744\n",
      "\n",
      "Performance\n",
      "\n",
      "             precision    recall  f1-score   support\n",
      "\n",
      "          0       0.99      0.98      0.98        86\n",
      "          1       0.95      0.98      0.97        43\n",
      "\n",
      "avg / total       0.98      0.98      0.98       129\n",
      "\n",
      "Confusion Matrix\n",
      "\n"
     ]
    },
    {
     "data": {
      "image/png": "[encoded data removed]",
      "text/plain": [
       "<matplotlib.figure.Figure at 0x12ca2f470>"
      ]
     },
     "metadata": {},
     "output_type": "display_data"
    }
   ],
   "source": [
    "# validate model\n",
    "print('Validate model\\n')\n",
    "ytest_true, ytest_pred = np.asarray(y_test), random_forest.predict(X_test)\n",
    "ytest_true= [x for xs in np.array(ytest_true) for x in xs]\n",
    "ytest_true_prob, ytest_pred_prob = y_test, random_forest.predict_proba(X_test)[:, 1] # take pred of being 1\n",
    "\n",
    "# accuracy\n",
    "print('Accuracy: %f\\n' % random_forest.score(X_test, y_test))\n",
    "\n",
    "# classification report\n",
    "print('Performance\\n')\n",
    "from sklearn.metrics import classification_report\n",
    "print(classification_report(ytest_true, ytest_pred))\n",
    "\n",
    "# confusion matrix\n",
    "print('Confusion Matrix\\n')\n",
    "from sklearn.metrics import confusion_matrix\n",
    "_=cm=confusion_matrix(ytest_true, ytest_pred)\n",
    "_=sns.heatmap(cm,annot=True,fmt=\"d\")"
   ]
  },
  {
   "cell_type": "code",
   "execution_count": 13,
   "metadata": {
    "ExecuteTime": {
     "end_time": "2019-06-11T22:13:05.401950Z",
     "start_time": "2019-06-11T22:13:05.370067Z"
    },
    "collapsed": false
   },
   "outputs": [
    {
     "data": {
      "text/plain": [
       "array([0. , 1. , 1. , 0.9, 1. , 0. , 0. , 0.8, 0. , 0. , 0. , 0. , 0. ,\n",
       "       1. , 0. , 1. , 1. , 0. , 1. , 1. , 0.9, 0.8, 0. , 0. , 0. , 0. ,\n",
       "       0.1, 0. , 0. , 0. , 1. , 1. , 0. , 1. , 0. , 0. , 1. , 0. , 0. ,\n",
       "       0. , 0.9, 0. , 1. , 0.6, 0. , 0. , 0. , 0. , 0. , 0. , 0.8, 0. ,\n",
       "       1. , 0. , 0.8, 0. , 0.2, 0. , 0. , 1. , 0. , 0.6, 0.6, 0. , 1. ,\n",
       "       0. , 1. , 1. , 0. , 1. , 0.1, 0.7, 0. , 0. , 0. , 0. , 0. , 0. ,\n",
       "       1. , 0. , 0. , 0. , 0. , 0.9, 0. , 0. , 0. , 1. , 0. , 0. , 0. ,\n",
       "       1. , 0.8, 0. , 0. , 0. , 0. , 1. , 1. , 0. , 0. , 0. , 0. , 0. ,\n",
       "       0. , 0.3, 0. , 0. , 0. , 1. , 0.9, 0. , 0. , 0. , 0. , 0. , 0. ,\n",
       "       0. , 0. , 0.8, 0. , 0. , 0.8, 0. , 0. , 1. , 0. , 1. , 1. ])"
      ]
     },
     "execution_count": 13,
     "metadata": {},
     "output_type": "execute_result"
    }
   ],
   "source": [
    "ytest_pred_prob"
   ]
  },
  {
   "cell_type": "code",
   "execution_count": 126,
   "metadata": {
    "ExecuteTime": {
     "end_time": "2018-07-27T11:04:29.612235Z",
     "start_time": "2018-07-27T11:04:29.457358Z"
    },
    "collapsed": false
   },
   "outputs": [
    {
     "name": "stdout",
     "output_type": "stream",
     "text": [
      "the ytest_true is type:  <class 'list'>\n",
      "the ytest_true is type:  <class 'list'>\n"
     ]
    },
    {
     "data": {
      "image/png": "[encoded data removed]",
      "text/plain": [
       "<matplotlib.figure.Figure at 0x12c1c4e48>"
      ]
     },
     "metadata": {},
     "output_type": "display_data"
    }
   ],
   "source": [
    "# prep data for roc\n",
    "ytest_true_roc= [x for xs in np.array(ytest_true_prob) for x in xs] #plot probabilities\n",
    "print('the ytest_true is type: ', type(ytest_true_roc))\n",
    "ytest_pred_roc = list(ytest_pred_prob)\n",
    "print('the ytest_true is type: ', type(ytest_pred_roc))\n",
    "\n",
    "# calculate false pos rate, true pos rate\n",
    "from sklearn.metrics import roc_curve, auc\n",
    "false_positive_rate, true_positive_rate, thresholds = roc_curve(ytest_true_roc, ytest_pred_roc)\n",
    "roc_auc = auc(false_positive_rate, true_positive_rate)\n",
    "\n",
    "# plot roc\n",
    "plt.title('Receiver Operating Characteristic')\n",
    "plt.plot(false_positive_rate, true_positive_rate, 'b', label='AUC = %0.2f'% roc_auc)\n",
    "plt.legend(loc='lower right')\n",
    "plt.plot([0,1],[0,1],'r--')\n",
    "plt.xlim([-0.1,1.2])\n",
    "plt.ylim([-0.1,1.2])\n",
    "plt.ylabel('True Positive Rate')\n",
    "plt.xlabel('False Positive Rate')\n",
    "plt.show()"
   ]
  },
  {
   "cell_type": "markdown",
   "metadata": {},
   "source": [
    "### view feature importance"
   ]
  },
  {
   "cell_type": "code",
   "execution_count": 104,
   "metadata": {
    "ExecuteTime": {
     "end_time": "2018-07-27T00:20:15.426121Z",
     "start_time": "2018-07-27T00:20:15.279532Z"
    },
    "collapsed": false
   },
   "outputs": [
    {
     "data": {
      "image/png": "[encoded data removed]",
      "text/plain": [
       "<matplotlib.figure.Figure at 0x12b83e518>"
      ]
     },
     "metadata": {},
     "output_type": "display_data"
    }
   ],
   "source": [
    "# view feature importance\n",
    "def f_importances(coef, names):\n",
    "    plt.barh(range(len(names)), coef, align='center')\n",
    "    plt.yticks(range(len(names)), names)\n",
    "    plt.show()\n",
    "    \n",
    "f_importances(random_forest.feature_importances_, indvar)"
   ]
  },
  {
   "cell_type": "markdown",
   "metadata": {
    "ExecuteTime": {
     "end_time": "2018-07-22T11:32:56.178754Z",
     "start_time": "2018-07-22T11:32:56.157395Z"
    },
    "collapsed": false
   },
   "source": [
    "### view trees that were generated in random forest"
   ]
  },
  {
   "cell_type": "code",
   "execution_count": 105,
   "metadata": {
    "ExecuteTime": {
     "end_time": "2018-07-27T00:20:17.415916Z",
     "start_time": "2018-07-27T00:20:17.379520Z"
    },
    "collapsed": false
   },
   "outputs": [
    {
     "name": "stdout",
     "output_type": "stream",
     "text": [
      "Num of trees in forest:  14\n"
     ]
    },
    {
     "data": {
      "text/plain": [
       "DecisionTreeClassifier(class_weight=None, criterion='gini', max_depth=4,\n",
       "            max_features='auto', max_leaf_nodes=None,\n",
       "            min_impurity_split=1e-07, min_samples_leaf=1,\n",
       "            min_samples_split=2, min_weight_fraction_leaf=0.0,\n",
       "            presort=False, random_state=1247235870, splitter='best')"
      ]
     },
     "execution_count": 105,
     "metadata": {},
     "output_type": "execute_result"
    },
    {
     "data": {
      "text/plain": [
       "DecisionTreeClassifier(class_weight=None, criterion='gini', max_depth=4,\n",
       "            max_features='auto', max_leaf_nodes=None,\n",
       "            min_impurity_split=1e-07, min_samples_leaf=1,\n",
       "            min_samples_split=2, min_weight_fraction_leaf=0.0,\n",
       "            presort=False, random_state=1517025161, splitter='best')"
      ]
     },
     "execution_count": 105,
     "metadata": {},
     "output_type": "execute_result"
    },
    {
     "data": {
      "text/plain": [
       "DecisionTreeClassifier(class_weight=None, criterion='gini', max_depth=4,\n",
       "            max_features='auto', max_leaf_nodes=None,\n",
       "            min_impurity_split=1e-07, min_samples_leaf=1,\n",
       "            min_samples_split=2, min_weight_fraction_leaf=0.0,\n",
       "            presort=False, random_state=806800640, splitter='best')"
      ]
     },
     "execution_count": 105,
     "metadata": {},
     "output_type": "execute_result"
    },
    {
     "data": {
      "text/plain": [
       "DecisionTreeClassifier(class_weight=None, criterion='gini', max_depth=4,\n",
       "            max_features='auto', max_leaf_nodes=None,\n",
       "            min_impurity_split=1e-07, min_samples_leaf=1,\n",
       "            min_samples_split=2, min_weight_fraction_leaf=0.0,\n",
       "            presort=False, random_state=982358119, splitter='best')"
      ]
     },
     "execution_count": 105,
     "metadata": {},
     "output_type": "execute_result"
    },
    {
     "data": {
      "text/plain": [
       "DecisionTreeClassifier(class_weight=None, criterion='gini', max_depth=4,\n",
       "            max_features='auto', max_leaf_nodes=None,\n",
       "            min_impurity_split=1e-07, min_samples_leaf=1,\n",
       "            min_samples_split=2, min_weight_fraction_leaf=0.0,\n",
       "            presort=False, random_state=1288135054, splitter='best')"
      ]
     },
     "execution_count": 105,
     "metadata": {},
     "output_type": "execute_result"
    },
    {
     "data": {
      "text/plain": [
       "DecisionTreeClassifier(class_weight=None, criterion='gini', max_depth=4,\n",
       "            max_features='auto', max_leaf_nodes=None,\n",
       "            min_impurity_split=1e-07, min_samples_leaf=1,\n",
       "            min_samples_split=2, min_weight_fraction_leaf=0.0,\n",
       "            presort=False, random_state=1147971250, splitter='best')"
      ]
     },
     "execution_count": 105,
     "metadata": {},
     "output_type": "execute_result"
    },
    {
     "data": {
      "text/plain": [
       "DecisionTreeClassifier(class_weight=None, criterion='gini', max_depth=4,\n",
       "            max_features='auto', max_leaf_nodes=None,\n",
       "            min_impurity_split=1e-07, min_samples_leaf=1,\n",
       "            min_samples_split=2, min_weight_fraction_leaf=0.0,\n",
       "            presort=False, random_state=1466332081, splitter='best')"
      ]
     },
     "execution_count": 105,
     "metadata": {},
     "output_type": "execute_result"
    },
    {
     "data": {
      "text/plain": [
       "DecisionTreeClassifier(class_weight=None, criterion='gini', max_depth=4,\n",
       "            max_features='auto', max_leaf_nodes=None,\n",
       "            min_impurity_split=1e-07, min_samples_leaf=1,\n",
       "            min_samples_split=2, min_weight_fraction_leaf=0.0,\n",
       "            presort=False, random_state=1837765535, splitter='best')"
      ]
     },
     "execution_count": 105,
     "metadata": {},
     "output_type": "execute_result"
    },
    {
     "data": {
      "text/plain": [
       "DecisionTreeClassifier(class_weight=None, criterion='gini', max_depth=4,\n",
       "            max_features='auto', max_leaf_nodes=None,\n",
       "            min_impurity_split=1e-07, min_samples_leaf=1,\n",
       "            min_samples_split=2, min_weight_fraction_leaf=0.0,\n",
       "            presort=False, random_state=279904383, splitter='best')"
      ]
     },
     "execution_count": 105,
     "metadata": {},
     "output_type": "execute_result"
    },
    {
     "data": {
      "text/plain": [
       "DecisionTreeClassifier(class_weight=None, criterion='gini', max_depth=4,\n",
       "            max_features='auto', max_leaf_nodes=None,\n",
       "            min_impurity_split=1e-07, min_samples_leaf=1,\n",
       "            min_samples_split=2, min_weight_fraction_leaf=0.0,\n",
       "            presort=False, random_state=1821210167, splitter='best')"
      ]
     },
     "execution_count": 105,
     "metadata": {},
     "output_type": "execute_result"
    },
    {
     "data": {
      "text/plain": [
       "DecisionTreeClassifier(class_weight=None, criterion='gini', max_depth=4,\n",
       "            max_features='auto', max_leaf_nodes=None,\n",
       "            min_impurity_split=1e-07, min_samples_leaf=1,\n",
       "            min_samples_split=2, min_weight_fraction_leaf=0.0,\n",
       "            presort=False, random_state=2097588260, splitter='best')"
      ]
     },
     "execution_count": 105,
     "metadata": {},
     "output_type": "execute_result"
    },
    {
     "data": {
      "text/plain": [
       "DecisionTreeClassifier(class_weight=None, criterion='gini', max_depth=4,\n",
       "            max_features='auto', max_leaf_nodes=None,\n",
       "            min_impurity_split=1e-07, min_samples_leaf=1,\n",
       "            min_samples_split=2, min_weight_fraction_leaf=0.0,\n",
       "            presort=False, random_state=1644745933, splitter='best')"
      ]
     },
     "execution_count": 105,
     "metadata": {},
     "output_type": "execute_result"
    },
    {
     "data": {
      "text/plain": [
       "DecisionTreeClassifier(class_weight=None, criterion='gini', max_depth=4,\n",
       "            max_features='auto', max_leaf_nodes=None,\n",
       "            min_impurity_split=1e-07, min_samples_leaf=1,\n",
       "            min_samples_split=2, min_weight_fraction_leaf=0.0,\n",
       "            presort=False, random_state=913828294, splitter='best')"
      ]
     },
     "execution_count": 105,
     "metadata": {},
     "output_type": "execute_result"
    },
    {
     "data": {
      "text/plain": [
       "DecisionTreeClassifier(class_weight=None, criterion='gini', max_depth=4,\n",
       "            max_features='auto', max_leaf_nodes=None,\n",
       "            min_impurity_split=1e-07, min_samples_leaf=1,\n",
       "            min_samples_split=2, min_weight_fraction_leaf=0.0,\n",
       "            presort=False, random_state=687791128, splitter='best')"
      ]
     },
     "execution_count": 105,
     "metadata": {},
     "output_type": "execute_result"
    }
   ],
   "source": [
    "#from sklearn.tree import export_graphviz\n",
    "print('Num of trees in forest: ', len(random_forest.estimators_))\n",
    "for i in range(len(random_forest.estimators_)):\n",
    "    random_forest.estimators_[i]"
   ]
  },
  {
   "cell_type": "markdown",
   "metadata": {
    "ExecuteTime": {
     "end_time": "2018-07-22T11:33:01.702013Z",
     "start_time": "2018-07-22T11:33:01.681024Z"
    },
    "collapsed": false
   },
   "source": [
    "### cannot visualize a tree of a random forest using graphviz"
   ]
  },
  {
   "cell_type": "code",
   "execution_count": 26,
   "metadata": {
    "ExecuteTime": {
     "end_time": "2018-07-26T10:13:29.760830Z",
     "start_time": "2018-07-26T10:13:29.703251Z"
    },
    "collapsed": false
   },
   "outputs": [
    {
     "ename": "AttributeError",
     "evalue": "'DecisionTreeClassifier' object has no attribute 'export_graphviz'",
     "traceback": [
      "\u001b[0;31m---------------------------------------------------------------------------\u001b[0m",
      "\u001b[0;31mAttributeError\u001b[0m                            Traceback (most recent call last)",
      "\u001b[0;32m<ipython-input-26-e76c80a169f5>\u001b[0m in \u001b[0;36m<module>\u001b[0;34m()\u001b[0m\n\u001b[1;32m      1\u001b[0m \u001b[0;32mfrom\u001b[0m \u001b[0msklearn\u001b[0m\u001b[0;34m.\u001b[0m\u001b[0mtree\u001b[0m \u001b[0;32mimport\u001b[0m \u001b[0mexport_graphviz\u001b[0m\u001b[0;34m\u001b[0m\u001b[0m\n\u001b[1;32m      2\u001b[0m \u001b[0mtree\u001b[0m\u001b[0;34m=\u001b[0m\u001b[0mrandom_forest\u001b[0m\u001b[0;34m.\u001b[0m\u001b[0mestimators_\u001b[0m\u001b[0;34m[\u001b[0m\u001b[0;36m0\u001b[0m\u001b[0;34m]\u001b[0m\u001b[0;34m\u001b[0m\u001b[0m\n\u001b[0;32m----> 3\u001b[0;31m dot_data = tree.export_graphviz(clf, out_file=None, \n\u001b[0m\u001b[1;32m      4\u001b[0m                          \u001b[0mfeature_names\u001b[0m\u001b[0;34m=\u001b[0m\u001b[0miris\u001b[0m\u001b[0;34m.\u001b[0m\u001b[0mfeature_names\u001b[0m\u001b[0;34m,\u001b[0m\u001b[0;34m\u001b[0m\u001b[0m\n\u001b[1;32m      5\u001b[0m                          \u001b[0mclass_names\u001b[0m\u001b[0;34m=\u001b[0m\u001b[0miris\u001b[0m\u001b[0;34m.\u001b[0m\u001b[0mtarget_names\u001b[0m\u001b[0;34m,\u001b[0m\u001b[0;34m\u001b[0m\u001b[0m\n",
      "\u001b[0;31mAttributeError\u001b[0m: 'DecisionTreeClassifier' object has no attribute 'export_graphviz'"
     ],
     "output_type": "error"
    }
   ],
   "source": [
    "from sklearn.tree import export_graphviz\n",
    "tree=random_forest.estimators_[0]\n",
    "dot_data = tree.export_graphviz(clf, out_file=None, \n",
    "                         feature_names=iris.feature_names,  \n",
    "                         class_names=iris.target_names,  \n",
    "                         filled=True, rounded=True,  \n",
    "                         special_characters=True)\n",
    "graph = graphviz.Source(dot_data)\n",
    "graph"
   ]
  },
  {
   "cell_type": "markdown",
   "metadata": {
    "ExecuteTime": {
     "end_time": "2018-07-22T11:47:33.180773Z",
     "start_time": "2018-07-22T11:47:33.027989Z"
    },
    "collapsed": false
   },
   "source": [
    "# kfolds"
   ]
  },
  {
   "cell_type": "code",
   "execution_count": 141,
   "metadata": {
    "ExecuteTime": {
     "end_time": "2018-07-27T12:58:51.199245Z",
     "start_time": "2018-07-27T12:58:51.174282Z"
    },
    "collapsed": false
   },
   "outputs": [
    {
     "name": "stdout",
     "output_type": "stream",
     "text": [
      "1. Split data into train and test set\n",
      "\n",
      "Length of X: \t 645.000000\n",
      "Length of y: \t 645.000000\n",
      "\n",
      "2. Do not need to scale data\n",
      "\n",
      "3. reshape data\n",
      "\n",
      "X:  (645, 9)\n",
      "y:  (645,)\n"
     ]
    }
   ],
   "source": [
    "# split data into training and testing sets\n",
    "X=data[indvar]\n",
    "y=data[depvar]\n",
    "\n",
    "# dont scale data\n",
    "\n",
    "# make into correct format\n",
    "print('X: ', X.shape) # X_train must be pd\n",
    "y_flat=np.array(y).flatten()\n",
    "print('y: ', y_flat.shape) # Y_train must be nparray with shape (R,)"
   ]
  },
  {
   "cell_type": "code",
   "execution_count": 138,
   "metadata": {
    "ExecuteTime": {
     "end_time": "2018-07-27T12:58:01.580987Z",
     "start_time": "2018-07-27T12:58:01.086169Z"
    },
    "collapsed": false
   },
   "outputs": [
    {
     "name": "stdout",
     "output_type": "stream",
     "text": [
      "\n",
      "Mean (SD)\n",
      "where mean = bias and SD = variance \n",
      "\n",
      "accuracy: 0.952043 (0.034699) \n",
      "f1:\t 0.946621 (0.065544) \n",
      "roc_auc: 0.987848 (0.015553) \n"
     ]
    }
   ],
   "source": [
    "from sklearn import model_selection\n",
    "\n",
    "kfold = model_selection.KFold(n_splits=10, random_state=0)\n",
    "kfolds_model = RandomForestClassifier()\n",
    "results_acc = model_selection.cross_val_score(kfolds_model, X, y_flat, cv=kfold, scoring='accuracy')\n",
    "results_f1  = model_selection.cross_val_score(kfolds_model, X, y_flat, cv=kfold, scoring='f1')\n",
    "results_auc = model_selection.cross_val_score(kfolds_model, X, y_flat, cv=kfold, scoring='roc_auc')\n",
    "\n",
    "print('\\nMean (SD)')\n",
    "print('where mean = bias and SD = variance \\n')\n",
    "print(\"accuracy: %f (%f) \"  % (results_acc.mean(), results_acc.std()))\n",
    "print(\"f1:\\t %f (%f) \" % (results_f1.mean(), results_f1.std()))\n",
    "print(\"roc_auc: %f (%f) \" % (results_auc.mean(), results_auc.std()))"
   ]
  },
  {
   "cell_type": "markdown",
   "metadata": {
    "ExecuteTime": {
     "end_time": "2018-07-22T20:44:54.687839Z",
     "start_time": "2018-07-23T03:44:37.610Z"
    },
    "collapsed": false
   },
   "source": [
    "# Save model"
   ]
  },
  {
   "cell_type": "code",
   "execution_count": 120,
   "metadata": {
    "ExecuteTime": {
     "end_time": "2018-07-27T00:31:14.291432Z",
     "start_time": "2018-07-27T00:31:14.268064Z"
    },
    "collapsed": false
   },
   "outputs": [
    {
     "data": {
      "text/plain": [
       "array([0, 1, 0, 1, 0, 1, 0, 0, 0, 0, 0, 1, 0, 1, 1, 0, 0, 1, 0, 1, 1, 0,\n",
       "       1, 0, 1, 0, 0, 0, 0, 0, 1, 0, 0, 0, 1, 0, 1, 1, 1, 1, 1, 1, 1, 0,\n",
       "       1, 0, 0, 1, 1, 1, 1, 1, 1, 1, 1, 1, 1, 1, 1, 0, 1, 1, 0, 1, 0, 1,\n",
       "       1, 0, 0, 1, 0, 1, 1, 0, 0, 0, 0, 0, 0, 0, 0, 1, 1, 1, 1, 0, 0, 0,\n",
       "       0, 0, 0, 0, 0, 0, 0, 1, 1, 1, 1, 0, 1, 1, 1, 1, 1, 0, 0, 1, 1, 1,\n",
       "       0, 0, 1, 0, 0, 0, 1, 1, 1, 0, 1, 0, 1, 0, 0, 0, 1, 0, 0, 0, 0, 0,\n",
       "       0, 0, 0, 0, 1, 0, 0, 0, 1, 0, 0, 1, 0, 1, 1, 0, 0, 1, 0, 0, 0, 1,\n",
       "       1, 0, 0, 0, 0, 0, 1, 1, 0, 0, 0, 0, 0, 1, 1, 1, 0, 1, 0, 1, 0, 0,\n",
       "       0, 1, 1, 0, 1, 1, 1, 0, 1, 1, 0, 0, 0, 1, 0, 0, 0, 1, 1, 0, 0, 0,\n",
       "       1, 1, 0, 0, 1, 1, 0, 1, 1, 1, 0, 0, 1, 0, 0, 1, 0, 1, 1, 0, 1, 1,\n",
       "       0, 1, 1, 1, 1, 1, 0, 0, 1, 1, 1, 1, 0, 0, 0, 0, 0, 0, 1, 1, 0, 0,\n",
       "       0, 1, 1, 1, 1, 1, 1, 1, 1, 1, 0, 1, 0, 1, 0, 0, 0, 0, 0, 1, 0, 0,\n",
       "       1, 1, 1, 1, 1, 0, 1, 1, 0, 0, 1, 1, 0, 1, 1, 0, 0, 1, 1, 0, 1, 0,\n",
       "       1, 1, 0, 0, 1, 0, 0, 0, 1, 0, 0, 1, 1, 1, 0, 1, 1, 0, 1, 0, 0, 1,\n",
       "       0, 1, 1, 1, 0, 0, 1, 1, 0, 1, 0, 1, 1, 0, 0, 0, 1, 0, 0, 0, 0, 1,\n",
       "       0, 0, 1, 1, 0, 0, 0, 1, 1, 1, 1, 1, 0, 0, 0, 0, 1, 1, 0, 0, 0, 0,\n",
       "       0, 0, 0, 0, 0, 0, 0, 1, 0, 0, 0, 0, 1, 0, 0, 0, 1, 0, 0, 0, 0, 0,\n",
       "       0, 0, 1, 0, 0, 0, 0, 0, 0, 0, 0, 0, 0, 0, 1, 0, 1, 0, 1, 0, 0, 0,\n",
       "       0, 1, 0, 0, 0, 1, 0, 1, 0, 0, 0, 1, 1, 0, 0, 0, 1, 0, 0, 0, 0, 0,\n",
       "       0, 1, 0, 0, 0, 1, 0, 1, 1, 1, 0, 0, 0, 0, 0, 0, 1, 1, 1, 0, 0, 0,\n",
       "       0, 0, 0, 0, 0, 0, 0, 1, 0, 0, 1, 1, 0, 0, 0, 1, 1, 0, 1, 0, 1, 0,\n",
       "       0, 0, 0, 0, 0, 0, 0, 0, 0, 0, 1, 0, 0, 0, 0, 0, 0, 0, 1, 1, 0, 0,\n",
       "       1, 0, 0, 1, 1, 0, 0, 0, 0, 1, 0, 0, 0, 0, 0, 0, 0, 0, 0, 0, 0, 0,\n",
       "       0, 0, 1, 0, 1, 0, 0, 0, 0, 0, 0, 0, 0, 0, 0, 0, 0, 0, 1, 0, 0, 1,\n",
       "       1, 1, 1, 0, 0, 1, 0, 0, 0, 0, 0, 1, 1, 0, 0, 0, 1, 0, 1, 0, 1, 1,\n",
       "       1, 0, 1, 0, 0, 0, 0, 0, 0, 0, 0, 1, 1, 1, 0, 1, 0, 1, 1, 0, 0, 0,\n",
       "       0, 0, 0, 0, 0, 0, 0, 0, 0, 1, 0, 0, 0, 0, 0, 1, 0, 0, 1, 0, 0, 0,\n",
       "       0, 0, 0, 0, 0, 0, 1, 0, 0, 0, 0, 0, 0, 0, 0, 0, 1, 0, 0, 0, 0, 0,\n",
       "       0, 0, 0, 1, 1, 1, 0, 0, 0, 0, 0, 0, 0, 0, 1, 1, 0, 0, 0, 0, 0, 0,\n",
       "       0, 0, 0, 0, 0, 1, 1])"
      ]
     },
     "execution_count": 120,
     "metadata": {},
     "output_type": "execute_result"
    }
   ],
   "source": [
    "import pickle\n",
    "s = pickle.dumps(random_forest)\n",
    "random_forest2 = pickle.loads(s)\n",
    "random_forest2.predict(X)"
   ]
  },
  {
   "cell_type": "code",
   "execution_count": null,
   "metadata": {
    "ExecuteTime": {
     "end_time": "2018-07-27T00:30:00.513222Z",
     "start_time": "2018-07-27T00:30:00.493537Z"
    },
    "collapsed": false
   },
   "outputs": [],
   "source": []
  },
  {
   "cell_type": "code",
   "execution_count": null,
   "metadata": {
    "ExecuteTime": {
     "end_time": "2018-07-22T11:24:14.912528Z",
     "start_time": "2018-07-22T11:24:14.892529Z"
    },
    "collapsed": false
   },
   "outputs": [],
   "source": []
  }
 ],
 "metadata": {
  "kernelspec": {
   "display_name": "Python 3",
   "language": "python",
   "name": "python3"
  },
  "language_info": {
   "codemirror_mode": {
    "name": "ipython",
    "version": 3
   },
   "file_extension": ".py",
   "mimetype": "text/x-python",
   "name": "python",
   "nbconvert_exporter": "python",
   "pygments_lexer": "ipython3",
   "version": "3.6.3"
  }
 },
 "nbformat": 4,
 "nbformat_minor": 2
}
